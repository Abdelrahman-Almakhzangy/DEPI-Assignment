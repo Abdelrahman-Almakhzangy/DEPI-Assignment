{
 "cells": [
  {
   "cell_type": "markdown",
   "metadata": {},
   "source": [
    "# Practice    \n",
    "# Enjoy^_^"
   ]
  },
  {
   "cell_type": "markdown",
   "metadata": {},
   "source": [
    "# Calculating Average of Numbers Using Functions"
   ]
  },
  {
   "cell_type": "code",
   "execution_count": null,
   "metadata": {},
   "outputs": [],
   "source": [
    "def avg(ls):\n",
    "    c = 0\n",
    "    for i in ls:\n",
    "        c += i\n",
    "    return c / len(ls)\n",
    "\n",
    "\n",
    "ls = [1, 2, 3, 4, 5]\n",
    "print(\"The average of the numbers in the list is = \", avg(ls))"
   ]
  },
  {
   "cell_type": "markdown",
   "metadata": {},
   "source": [
    "# Finding the Longest Word in a List"
   ]
  },
  {
   "cell_type": "code",
   "execution_count": null,
   "metadata": {},
   "outputs": [],
   "source": [
    "\n",
    "def longest(ls):\n",
    "    c = 0\n",
    "    for i in ls:\n",
    "        if len(i) >= c:\n",
    "            c = len(i)\n",
    "            longest = i\n",
    "    return longest\n",
    "ls = [\"123\", \"1234\",\"12345\"]\n",
    "\n",
    "print(\"The longest word in the list is\",longest(ls))"
   ]
  },
  {
   "cell_type": "markdown",
   "metadata": {},
   "source": [
    "# Checking if a Number is Prime"
   ]
  },
  {
   "cell_type": "code",
   "execution_count": null,
   "metadata": {},
   "outputs": [],
   "source": [
    "def prime(n):\n",
    "    is_prime = True\n",
    "    if n == 1:\n",
    "        is_prime = False\n",
    "    else:\n",
    "        for i in range (2 , n // 2 + 1 ):\n",
    "            if n % i == 0:\n",
    "                is_prime = False\n",
    "                break\n",
    "\n",
    "    if is_prime == True:\n",
    "        return True\n",
    "    else:\n",
    "        return False\n",
    "\n",
    "print(\"Enter the number you want to check \")\n",
    "n = int(input().strip())\n",
    "if prime(n):\n",
    "    print (\"The number \" + str(n) +\" is prime\")\n",
    "else:\n",
    "    print(\"The number \" + str(n) +\" is not prime\")"
   ]
  },
  {
   "cell_type": "markdown",
   "metadata": {},
   "source": [
    "# Converting Temperature Units"
   ]
  },
  {
   "cell_type": "code",
   "execution_count": null,
   "metadata": {},
   "outputs": [
    {
     "name": "stdout",
     "output_type": "stream",
     "text": [
      "32.0  degrees Celsius is equal to 89.6  degrees Fahrenheit.\n"
     ]
    }
   ],
   "source": [
    "celsius = float(input(\"Enter temperature in Celsius: \"))\n",
    "\n",
    "fahrenheit = (celsius * 9/5) + 32\n",
    "\n",
    "print(celsius , \"degrees Celsius is equal to\", fahrenheit, \"degrees Fahrenheit.\")"
   ]
  },
  {
   "cell_type": "markdown",
   "metadata": {},
   "source": [
    "# Generating a List of Squares Using List Comprehension and Functions"
   ]
  },
  {
   "cell_type": "code",
   "execution_count": null,
   "metadata": {},
   "outputs": [],
   "source": [
    "def square(x):\n",
    "    return x * x\n",
    "n = [1, 2, 3, 4, 5]\n",
    "s = [square(x) for x in n]\n",
    "print(s)"
   ]
  },
  {
   "cell_type": "markdown",
   "metadata": {},
   "source": [
    "# Converting a List of Strings to Uppercase"
   ]
  },
  {
   "cell_type": "code",
   "execution_count": 5,
   "metadata": {},
   "outputs": [
    {
     "name": "stdout",
     "output_type": "stream",
     "text": [
      "HELLO\n",
      "WORLD\n"
     ]
    }
   ],
   "source": [
    "def uppercase(s):\n",
    "    return s.upper()\n",
    "\n",
    "x = [\"hello\", \"world\"]\n",
    "\n",
    "# Using the function in a loop\n",
    "for s in x:\n",
    "    print(uppercase(s))\n"
   ]
  },
  {
   "cell_type": "markdown",
   "metadata": {},
   "source": [
    "# Calculating the Total Price Including Tax\n"
   ]
  },
  {
   "cell_type": "code",
   "execution_count": 8,
   "metadata": {},
   "outputs": [
    {
     "name": "stdout",
     "output_type": "stream",
     "text": [
      "Total Price including tax: 110.0\n"
     ]
    }
   ],
   "source": [
    "def calculate_total_price(price, tax):\n",
    "    total = price + (price * tax)\n",
    "    return total\n",
    "\n",
    "# Example Usage\n",
    "price = 100\n",
    "tax = 0.1\n",
    "\n",
    "total = calculate_total_price(price, tax)\n",
    "\n",
    "print(\"Total Price including tax:\" , total)\n"
   ]
  },
  {
   "cell_type": "markdown",
   "metadata": {},
   "source": [
    "# Finding the Minimum and Maximum Values in a List"
   ]
  },
  {
   "cell_type": "code",
   "execution_count": null,
   "metadata": {},
   "outputs": [],
   "source": [
    "def getMax(x):\n",
    "    return max(x)\n",
    "\n",
    "def getMin(x):\n",
    "    return min(x)\n",
    "\n",
    "numbers = [1, 2, 3, 4, 5, 6]\n",
    "\n",
    "mini = getMin(numbers)\n",
    "maxi = getMax(numbers)\n",
    "\n",
    "print(\"Minimum Value:\", mini)\n",
    "print(\"Maximum Value:\", maxi)\n"
   ]
  },
  {
   "cell_type": "markdown",
   "metadata": {},
   "source": [
    "# Checking if a String is a Valid Email Address"
   ]
  },
  {
   "cell_type": "code",
   "execution_count": 11,
   "metadata": {},
   "outputs": [
    {
     "name": "stdout",
     "output_type": "stream",
     "text": [
      "Valid Email\n"
     ]
    }
   ],
   "source": [
    "import re\n",
    "\n",
    "regex = r'\\b[A-Za-z0-9._%+-]+@[A-Za-z0-9.-]+\\.[A-Z|a-z]{2,7}\\b'\n",
    "\n",
    "def check(email):\n",
    "\n",
    "    # pass the regular expression\n",
    "    # and the string into the fullmatch() method\n",
    "    if(re.fullmatch(regex, email)):\n",
    "        print(\"Valid Email\")\n",
    "\n",
    "    else:\n",
    "        print(\"Invalid Email\")\n",
    "\n",
    "# Driver Code\n",
    "if __name__ == '__main__':\n",
    "\n",
    "    # Enter the email\n",
    "    email = \"abdelrahman@gmail.com\"\n",
    "\n",
    "    # calling run function\n",
    "    check(email)"
   ]
  },
  {
   "cell_type": "markdown",
   "metadata": {},
   "source": [
    "# Counting the Frequency of Each Character in a String"
   ]
  },
  {
   "cell_type": "code",
   "execution_count": 9,
   "metadata": {},
   "outputs": [
    {
     "name": "stdout",
     "output_type": "stream",
     "text": [
      "{'h': 1, 'e': 1, 'l': 3, 'o': 2, ' ': 1, 'w': 1, 'r': 1, 'd': 1}\n"
     ]
    }
   ],
   "source": [
    "s = \"hello wrold\"\n",
    "freq = {}\n",
    "\n",
    "for c in s:\n",
    "    if c in freq:\n",
    "        freq[c] += 1\n",
    "    else:\n",
    "        freq[c] = 1\n",
    "\n",
    "print(freq)"
   ]
  }
 ],
 "metadata": {
  "kernelspec": {
   "display_name": "Python 3",
   "language": "python",
   "name": "python3"
  },
  "language_info": {
   "codemirror_mode": {
    "name": "ipython",
    "version": 3
   },
   "file_extension": ".py",
   "mimetype": "text/x-python",
   "name": "python",
   "nbconvert_exporter": "python",
   "pygments_lexer": "ipython3",
   "version": "3.12.3"
  }
 },
 "nbformat": 4,
 "nbformat_minor": 4
}
